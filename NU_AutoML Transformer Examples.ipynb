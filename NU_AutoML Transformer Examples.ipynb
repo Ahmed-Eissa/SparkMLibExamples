{
 "cells": [
  {
   "cell_type": "markdown",
   "metadata": {},
   "source": [
    "## NU AutoML Transformers Examples ##"
   ]
  },
  {
   "cell_type": "code",
   "execution_count": 1,
   "metadata": {},
   "outputs": [],
   "source": [
    "# find Spark\n",
    "import findspark\n",
    "findspark.init('/home/eissa/spark-2.3.1-bin-hadoop2.7')"
   ]
  },
  {
   "cell_type": "code",
   "execution_count": null,
   "metadata": {},
   "outputs": [],
   "source": [
    "# import NU AutoML PAckage\n",
    "import NU_AutoML.Transformers"
   ]
  },
  {
   "cell_type": "code",
   "execution_count": 2,
   "metadata": {},
   "outputs": [],
   "source": [
    "# create spark session\n",
    "from pyspark.sql import SparkSession\n",
    "spark = SparkSession.builder.appName('myproj').getOrCreate()\n"
   ]
  },
  {
   "cell_type": "code",
   "execution_count": 8,
   "metadata": {},
   "outputs": [],
   "source": [
    "# Create Sample Dataframe\n",
    "SampleDataFrame = spark.createDataFrame([\n",
    "  (1, \"test 1\", 1.1 , 34),\n",
    "  (2, \"test 2\" , 2.0 , 12),\n",
    "  (1, \"test 3\" , 60.6 , 2),\n",
    "  (1, \"test 4\" , 8.1 , 16),\n",
    "  (2, \"test 5\" , 7.3 , 11),\n",
    "  (1, \"test 6\" , 3.4 , 1000)\n",
    "], [\"label\", \"c1\" , \"c2\" , \"c3\"])\n"
   ]
  },
  {
   "cell_type": "code",
   "execution_count": 9,
   "metadata": {},
   "outputs": [
    {
     "name": "stdout",
     "output_type": "stream",
     "text": [
      "+-----+------+----+---+\n",
      "|label|    c1|  c2| c3|\n",
      "+-----+------+----+---+\n",
      "|    1|test 1| 1.1| 34|\n",
      "|    2|test 2| 2.0| 12|\n",
      "|    1|test 3|60.6|  2|\n",
      "|    1|test 4| 8.1| 16|\n",
      "|    2|test 5| 7.3| 11|\n",
      "+-----+------+----+---+\n",
      "\n"
     ]
    }
   ],
   "source": [
    "# Remove Outliers\n",
    "stds = NU_AutoML.Transformers.OutlierRemover(inputCol= 'c3' , outputCol= 'c3_Scalled' )\n",
    "stds.transform(SampleDataFrame).show()"
   ]
  },
  {
   "cell_type": "code",
   "execution_count": 10,
   "metadata": {},
   "outputs": [
    {
     "name": "stdout",
     "output_type": "stream",
     "text": [
      "+-----+------+----+--------------------+\n",
      "|label|    c1|  c2|          c3_Scalled|\n",
      "+-----+------+----+--------------------+\n",
      "|    1|test 1| 1.1| 0.03206412825651302|\n",
      "|    2|test 2| 2.0| 0.01002004008016032|\n",
      "|    1|test 3|60.6|                 0.0|\n",
      "|    1|test 4| 8.1|0.014028056112224449|\n",
      "|    2|test 5| 7.3|0.009018036072144289|\n",
      "|    1|test 6| 3.4|                 1.0|\n",
      "+-----+------+----+--------------------+\n",
      "\n"
     ]
    }
   ],
   "source": [
    "# Scale (Standarize) column c3\n",
    "stds = NU_AutoML.Transformers.Rescaler(inputCol= 'c3' , outputCol= 'c3_Scalled' , StdType=0)\n",
    "stds.transform(SampleDataFrame).show()"
   ]
  },
  {
   "cell_type": "code",
   "execution_count": 11,
   "metadata": {},
   "outputs": [
    {
     "name": "stdout",
     "output_type": "stream",
     "text": [
      "+-----+------+----+---------+\n",
      "|label|    c1|  c3|c2_Binary|\n",
      "+-----+------+----+---------+\n",
      "|    1|test 1|  34|        0|\n",
      "|    2|test 2|  12|        0|\n",
      "|    1|test 3|   2|        1|\n",
      "|    1|test 4|  16|        1|\n",
      "|    2|test 5|  11|        0|\n",
      "|    1|test 6|1000|        0|\n",
      "+-----+------+----+---------+\n",
      "\n"
     ]
    }
   ],
   "source": [
    "# convert Column c2 to binary\n",
    "stds = NU_AutoML.Transformers.binarizer(inputCol= 'c2' , outputCol= 'c2_Binary' , threshold=8)\n",
    "stds.transform(SampleDataFrame).show()"
   ]
  }
 ],
 "metadata": {
  "kernelspec": {
   "display_name": "Python 3",
   "language": "python",
   "name": "python3"
  },
  "language_info": {
   "codemirror_mode": {
    "name": "ipython",
    "version": 3
   },
   "file_extension": ".py",
   "mimetype": "text/x-python",
   "name": "python",
   "nbconvert_exporter": "python",
   "pygments_lexer": "ipython3",
   "version": "3.6.5"
  }
 },
 "nbformat": 4,
 "nbformat_minor": 2
}
