{
 "cells": [
  {
   "cell_type": "markdown",
   "metadata": {},
   "source": [
    "## Simple KNN Using NU_AutoML ##"
   ]
  },
  {
   "cell_type": "code",
   "execution_count": 9,
   "metadata": {},
   "outputs": [],
   "source": [
    "# find spark\n",
    "import findspark\n",
    "findspark.init('/home/eissa/spark-2.3.1-bin-hadoop2.7')"
   ]
  },
  {
   "cell_type": "code",
   "execution_count": 10,
   "metadata": {},
   "outputs": [],
   "source": [
    "# Create Spark Session\n",
    "from pyspark.sql import SparkSession\n",
    "spark = SparkSession.builder.appName('myproj').getOrCreate()"
   ]
  },
  {
   "cell_type": "code",
   "execution_count": 11,
   "metadata": {},
   "outputs": [],
   "source": [
    "# Import NU AutoML  Package\n",
    "import NU_AutoML.Utilities"
   ]
  },
  {
   "cell_type": "code",
   "execution_count": 13,
   "metadata": {},
   "outputs": [],
   "source": [
    "# Create Sample Dataframe and sample instancce\n",
    "mydf = spark.createDataFrame([\n",
    "  ('A', 24, 1.1), \n",
    "  ('B', 11 , 2.0),\n",
    "  ('B', 23 , 60.6),\n",
    "  ('B', 3 , 8.1),\n",
    "  ('A', 0 , 7.3),\n",
    "  ('A', 100 , 3.4)\n",
    "], [\"label\", \"c1\" , \"c2\"])\n",
    "\n",
    "z = { \"label\" : \"?\" , \"c1\" : 10 , \"c2\" : 11}"
   ]
  },
  {
   "cell_type": "code",
   "execution_count": 5,
   "metadata": {},
   "outputs": [],
   "source": [
    "# Create KNN class and give it the Dataset, K and LAbel column\n",
    "SimpleKnn = NU_AutoML.Utilities.SimpleKNN( dataset=mydf ,  labelcol= 'label' , k=3)"
   ]
  },
  {
   "cell_type": "code",
   "execution_count": 6,
   "metadata": {},
   "outputs": [],
   "source": [
    "# Classify\n",
    "selectedclass = SimpleKnn.getKNN(z)"
   ]
  },
  {
   "cell_type": "code",
   "execution_count": 7,
   "metadata": {},
   "outputs": [
    {
     "name": "stdout",
     "output_type": "stream",
     "text": [
      "A\n"
     ]
    }
   ],
   "source": [
    "print(selectedclass)"
   ]
  }
 ],
 "metadata": {
  "kernelspec": {
   "display_name": "Python 3",
   "language": "python",
   "name": "python3"
  },
  "language_info": {
   "codemirror_mode": {
    "name": "ipython",
    "version": 3
   },
   "file_extension": ".py",
   "mimetype": "text/x-python",
   "name": "python",
   "nbconvert_exporter": "python",
   "pygments_lexer": "ipython3",
   "version": "3.6.5"
  }
 },
 "nbformat": 4,
 "nbformat_minor": 2
}
